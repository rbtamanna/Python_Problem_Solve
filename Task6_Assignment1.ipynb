{
  "nbformat": 4,
  "nbformat_minor": 0,
  "metadata": {
    "colab": {
      "provenance": []
    },
    "kernelspec": {
      "name": "python3",
      "display_name": "Python 3"
    },
    "language_info": {
      "name": "python"
    }
  },
  "cells": [
    {
      "cell_type": "code",
      "execution_count": 3,
      "metadata": {
        "colab": {
          "base_uri": "https://localhost:8080/"
        },
        "id": "E5LcNK2HKopg",
        "outputId": "2e3b0aca-56a2-4032-fac8-9201a6b85e84"
      },
      "outputs": [
        {
          "output_type": "stream",
          "name": "stdout",
          "text": [
            "23\n",
            "20\n"
          ]
        }
      ],
      "source": [
        "x=int(input())\n",
        "output=(x//4)*4\n",
        "print(output)"
      ]
    }
  ]
}