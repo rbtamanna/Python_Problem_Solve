{
  "nbformat": 4,
  "nbformat_minor": 0,
  "metadata": {
    "colab": {
      "provenance": []
    },
    "kernelspec": {
      "name": "python3",
      "display_name": "Python 3"
    },
    "language_info": {
      "name": "python"
    }
  },
  "cells": [
    {
      "cell_type": "markdown",
      "source": [
        "Suppose you have been given the following list of tuples.\n",
        "\n",
        "list_1 = [(\"a\", 1), (\"b\", 2), (\"a\", 3), (\"b\", 1), (\"a\", 2), (\"c\", 1)]\n",
        "\n",
        "Write a Python program that converts this list of tuples into a dictionary and then prints the dictionary. The items in each tuple are a key and its value respectively. You need to group the values with the same keys into a list as shown below.\n",
        "===================================================================\n",
        "Output:\n",
        "{'a': [1, 3, 2], 'b': [2, 1], 'c': [1]}\n",
        "===================================================================\n"
      ],
      "metadata": {
        "id": "0UT3Wzg3AI06"
      }
    },
    {
      "cell_type": "code",
      "source": [
        "list_1 = [(\"a\", 1), (\"b\", 2), (\"a\", 3), (\"b\", 1), (\"a\", 2), (\"c\", 1)]\n",
        "d={}\n",
        "for i in range(len(list_1)):\n",
        "  if list_1[i][0] not in d:\n",
        "    d[list_1[i][0]]=[]\n",
        "    d[list_1[i][0]].append(list_1[i][1])\n",
        "  else:\n",
        "    d[list_1[i][0]].append(list_1[i][1])\n",
        "print(d)"
      ],
      "metadata": {
        "colab": {
          "base_uri": "https://localhost:8080/"
        },
        "id": "2IcOC9nNA4Ln",
        "outputId": "7700e70c-017b-43e7-b8fd-d0c9a7cf526c"
      },
      "execution_count": 2,
      "outputs": [
        {
          "output_type": "stream",
          "name": "stdout",
          "text": [
            "{'a': [1, 3, 2], 'b': [2, 1], 'c': [1]}\n"
          ]
        }
      ]
    }
  ]
}