{
  "nbformat": 4,
  "nbformat_minor": 0,
  "metadata": {
    "colab": {
      "provenance": []
    },
    "kernelspec": {
      "name": "python3",
      "display_name": "Python 3"
    },
    "language_info": {
      "name": "python"
    }
  },
  "cells": [
    {
      "cell_type": "code",
      "execution_count": 3,
      "metadata": {
        "colab": {
          "base_uri": "https://localhost:8080/"
        },
        "id": "OzzJMoQ3VX0P",
        "outputId": "c97dda2c-9a42-4934-bea5-dcd2f67c3aab"
      },
      "outputs": [
        {
          "output_type": "stream",
          "name": "stdout",
          "text": [
            "88\n",
            "22\n",
            "1\n",
            "3.3\n",
            "2022\n"
          ]
        }
      ],
      "source": [
        "a=int(input())\n",
        "b=int(input())\n",
        "c=int(input())\n",
        "d=float(input())\n",
        "result=a**c+b*a-d/3\n",
        "result=int(result)\n",
        "print(result)"
      ]
    }
  ]
}