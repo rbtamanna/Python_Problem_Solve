{
  "nbformat": 4,
  "nbformat_minor": 0,
  "metadata": {
    "colab": {
      "provenance": []
    },
    "kernelspec": {
      "name": "python3",
      "display_name": "Python 3"
    },
    "language_info": {
      "name": "python"
    }
  },
  "cells": [
    {
      "cell_type": "code",
      "execution_count": 4,
      "metadata": {
        "colab": {
          "base_uri": "https://localhost:8080/"
        },
        "id": "WVIzR8Z36liG",
        "outputId": "675f7d97-84ce-4888-8a9b-c89fcf6b8128"
      },
      "outputs": [
        {
          "output_type": "stream",
          "name": "stdout",
          "text": [
            "90\n",
            "Each friend will receive 30 chocolates\n",
            "The number of remaining chocolates is 0\n"
          ]
        }
      ],
      "source": [
        "chocolates=int(input())\n",
        "friend=chocolates//3\n",
        "user=chocolates-friend*3\n",
        "print(\"Each friend will receive\",friend,\"chocolates\")\n",
        "print(\"The number of remaining chocolates is\", user)"
      ]
    }
  ]
}